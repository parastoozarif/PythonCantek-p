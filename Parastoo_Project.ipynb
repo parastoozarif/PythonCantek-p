{
  "nbformat": 4,
  "nbformat_minor": 0,
  "metadata": {
    "colab": {
      "provenance": [],
      "authorship_tag": "ABX9TyNfCOaX8urnnHH6pG4Y3w/m",
      "include_colab_link": true
    },
    "kernelspec": {
      "name": "python3",
      "display_name": "Python 3"
    },
    "language_info": {
      "name": "python"
    }
  },
  "cells": [
    {
      "cell_type": "markdown",
      "metadata": {
        "id": "view-in-github",
        "colab_type": "text"
      },
      "source": [
        "<a href=\"https://colab.research.google.com/github/parastoozarif/PythonCantek-p/blob/main/Parastoo_Project.ipynb\" target=\"_parent\"><img src=\"https://colab.research.google.com/assets/colab-badge.svg\" alt=\"Open In Colab\"/></a>"
      ]
    },
    {
      "cell_type": "code",
      "execution_count": 4,
      "metadata": {
        "id": "_BAWF4Kw5BF8"
      },
      "outputs": [],
      "source": [
        "# Import necessary libraries\n",
        "import requests\n",
        "from bs4 import BeautifulSoup\n",
        "import pandas as pd\n"
      ]
    },
    {
      "cell_type": "code",
      "source": [
        "# IMDb URL\n",
        "url = \"http://quotes.toscrape.com/\"\n"
      ],
      "metadata": {
        "id": "2OZSrZ57-eGx"
      },
      "execution_count": 32,
      "outputs": []
    },
    {
      "cell_type": "code",
      "source": [
        "# Send a GET request to the URL\n",
        "response = requests.get(url)\n",
        "\n"
      ],
      "metadata": {
        "id": "K4QMoPEE-0du"
      },
      "execution_count": 33,
      "outputs": []
    },
    {
      "cell_type": "code",
      "source": [
        "# Parse the HTML content\n",
        "soup = BeautifulSoup(response.content, 'html.parser')"
      ],
      "metadata": {
        "id": "fjPpZ_hs-2cU"
      },
      "execution_count": 34,
      "outputs": []
    },
    {
      "cell_type": "code",
      "source": [
        "soup"
      ],
      "metadata": {
        "id": "_BLAYHgm_FyG"
      },
      "execution_count": null,
      "outputs": []
    },
    {
      "cell_type": "code",
      "source": [
        "# Find all the quote text\n",
        "quotes = [i.text.strip() for i in soup.find_all('span', class_='text')]"
      ],
      "metadata": {
        "id": "q7tXyAjb_F_q"
      },
      "execution_count": 37,
      "outputs": []
    },
    {
      "cell_type": "code",
      "source": [
        "# Find all the authors\n",
        "authors = [i.text.strip() for i in soup.find_all('small', class_='author')]"
      ],
      "metadata": {
        "id": "pPJR3WJqD905"
      },
      "execution_count": 38,
      "outputs": []
    },
    {
      "cell_type": "code",
      "source": [
        "# Create a DataFrame\n",
        "df = pd.DataFrame({\n",
        "    \"Quote\": quotes,\n",
        "    \"Author\": authors\n",
        "})"
      ],
      "metadata": {
        "id": "w-aFg4wqD-En"
      },
      "execution_count": 39,
      "outputs": []
    },
    {
      "cell_type": "code",
      "source": [
        "# Display the DataFrame\n",
        "print(df)"
      ],
      "metadata": {
        "colab": {
          "base_uri": "https://localhost:8080/"
        },
        "id": "VzBF3FD2_GMj",
        "outputId": "1f3383d3-1e2b-4af5-bc26-12e3ea780c4e"
      },
      "execution_count": 40,
      "outputs": [
        {
          "output_type": "stream",
          "name": "stdout",
          "text": [
            "                                               Quote             Author\n",
            "0  “The world as we have created it is a process ...    Albert Einstein\n",
            "1  “It is our choices, Harry, that show what we t...       J.K. Rowling\n",
            "2  “There are only two ways to live your life. On...    Albert Einstein\n",
            "3  “The person, be it gentleman or lady, who has ...        Jane Austen\n",
            "4  “Imperfection is beauty, madness is genius and...     Marilyn Monroe\n",
            "5  “Try not to become a man of success. Rather be...    Albert Einstein\n",
            "6  “It is better to be hated for what you are tha...         André Gide\n",
            "7  “I have not failed. I've just found 10,000 way...   Thomas A. Edison\n",
            "8  “A woman is like a tea bag; you never know how...  Eleanor Roosevelt\n",
            "9  “A day without sunshine is like, you know, nig...       Steve Martin\n"
          ]
        }
      ]
    },
    {
      "cell_type": "code",
      "source": [
        "# Save the DataFrame to a CSV file\n",
        "df.to_csv('quotes.csv', index=False)\n"
      ],
      "metadata": {
        "id": "c99HKmbKEXxn"
      },
      "execution_count": 41,
      "outputs": []
    }
  ]
}